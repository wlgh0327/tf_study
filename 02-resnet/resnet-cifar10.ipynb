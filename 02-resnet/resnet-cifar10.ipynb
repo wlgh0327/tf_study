{
 "cells": [
  {
   "cell_type": "code",
   "execution_count": 1,
   "source": [
    "import numpy as np\n",
    "import os\n",
    "import matplotlib.pyplot as plt\n",
    "import tensorflow as tf\n",
    "import tensorflow.keras.backend as K\n",
    "from tensorflow.keras.preprocessing import image\n",
    "from tensorflow.keras.preprocessing.image import ImageDataGenerator\n",
    "\n",
    "from resnet_cifar10 import resnet_20, resnet_32, resnet_44, resnet_56, resnet_110"
   ],
   "outputs": [],
   "metadata": {}
  },
  {
   "cell_type": "code",
   "execution_count": 2,
   "source": [
    "# GPU 사용 시 GPU memory 사용량 조절 부분\n",
    "# 이 코드를 사용하면 GPU memory 가 충분히 남아있을 경우 여러 코드를 동시에 처리할 수 있다.\n",
    "\n",
    "GPU_DEVICE_NUM = 0 # Multi GPU를 이용할 경우 사용하고자 할 GPU ID\n",
    "gpus = tf.config.experimental.list_physical_devices('GPU')\n",
    "print('='*16)\n",
    "print('Current gpu devices : {}'.format(gpus))\n",
    "print('='*16)\n",
    "\n",
    "if gpus :\n",
    "    try :\n",
    "        #tf.config.experimental.set_visible_devices(gpus[GPU_DEVICE_NUM], 'GPU')  # Multi GPU 사용 시 주석 제거\n",
    "        tf.config.experimental.set_memory_growth(gpus[GPU_DEVICE_NUM], True)\n",
    "    except RuntimeError as e :\n",
    "        print(e)"
   ],
   "outputs": [
    {
     "output_type": "stream",
     "name": "stdout",
     "text": [
      "================\n",
      "Current gpu devices : [PhysicalDevice(name='/physical_device:GPU:0', device_type='GPU')]\n",
      "================\n"
     ]
    }
   ],
   "metadata": {}
  },
  {
   "cell_type": "code",
   "execution_count": 3,
   "source": [
    "# 학습 및 테스트용 CIFAR-10 데이터셋 로드\n",
    "(x_train, y_train), (x_test, y_test) = tf.keras.datasets.cifar10.load_data()\n",
    "\n",
    "print(x_train.shape, y_train.shape)\n",
    "print(x_test.shape, y_test.shape)\n",
    "\n",
    "# 결과 저장 경로\n",
    "TRAINED_MODEL_PATH = 'models_resnet20'\n",
    "\n",
    "# Class 개수와 이미지 크기 지정\n",
    "NUM_CLASSES = 10            # CIFAR-10 Dataset 은 10개의 class 를 가지고 있음\n",
    "IMG_HEIGHT = 32             # CIFAR-10 Dataset 의 이미지 크기 32x32x3\n",
    "IMG_WIDTH = 32\n",
    "\n",
    "# Epoch 횟수와 batch size, learning rate, dropout ratio 지정\n",
    "EPOCHS = 200                 # 학습 반복 횟수 지정\n",
    "BATCH_SIZE = 32            # 학습에 사용할 mini-batch 크기\n",
    "LEARNING_RATE = 0.001       # Optimizer 에 사용할 learning rate"
   ],
   "outputs": [
    {
     "output_type": "stream",
     "name": "stdout",
     "text": [
      "(50000, 32, 32, 3) (50000, 1)\n",
      "(10000, 32, 32, 3) (10000, 1)\n"
     ]
    }
   ],
   "metadata": {}
  },
  {
   "cell_type": "code",
   "execution_count": 4,
   "source": [
    "# One-hot encoding 형태로 label 데이터 변경\n",
    "y_train = tf.keras.utils.to_categorical(y_train, NUM_CLASSES)\n",
    "y_test = tf.keras.utils.to_categorical(y_test, NUM_CLASSES)\n",
    "\n",
    "print(y_train.shape, y_test.shape)\n",
    "\n",
    "# ImageDataGenerator pipeline 을 이용한 Data augmentation\n",
    "# 학습용 데이터셋을 augmentation 하기 위한 ImageDataGenerator pipeline\n",
    "datagen = ImageDataGenerator(\n",
    "            featurewise_center=True,               # 각 이미지의 평균값에서 전체 데이터셋의 평균값을 빼서 분포의 평균을 0에 가깝게 만듦\n",
    "            featurewise_std_normalization=True,    # 평균이 0이고 분산이 1인 정규 분포를 따르도록 정규화\n",
    "            horizontal_flip=True,                  # random horizontal flip\n",
    "            width_shift_range=0.125,               # 좌/우로 이미지를 이동시켜 학습 데이터 늘림(0.125 : 전체 가로 크기의 12.5% 범위 내)\n",
    "            height_shift_range=0.125,              # 상/하로 이미지를 이동시켜 학습 데이터 늘림(0.125 : 전체 세로 크기의 12.5% 범위 내)\n",
    "            validation_split=0.2)                  # validation 에 사용할 데이터 비율(20%)\n",
    "\n",
    "# 테스트용 데이터셋을 augmentation 하기 위한 ImageDataGenerator pipeline\n",
    "test_datagen = ImageDataGenerator(\n",
    "            featurewise_center=True,\n",
    "            featurewise_std_normalization=True)\n",
    "\n",
    "# featurewise_center / featurewise_std_normalization 은 전체 데이터셋을 사용하여야 함으로\n",
    "# ImageDataGenerator.fit() 을 통해 전체 데이터셋을 확인해야함\n",
    "datagen.fit(x_train)\n",
    "test_datagen.fit(x_test)"
   ],
   "outputs": [
    {
     "output_type": "stream",
     "name": "stdout",
     "text": [
      "(50000, 10) (10000, 10)\n"
     ]
    }
   ],
   "metadata": {}
  },
  {
   "cell_type": "code",
   "execution_count": 5,
   "source": [
    "# ResNet-20 모델 생성\n",
    "model = resnet_20(NUM_CLASSES)\n",
    "\n",
    "# 학습에 사용할 SGD optimizer 및 loss function 생성\n",
    "optimizer = tf.keras.optimizers.SGD(momentum=0.9)\n",
    "losses = tf.keras.losses.CategoricalCrossentropy()\n",
    "\n",
    "# 모델 컴파일(optimizer, loss 지정)\n",
    "model.compile(optimizer=optimizer,\n",
    "              loss=losses,\n",
    "              metrics=['acc'])"
   ],
   "outputs": [],
   "metadata": {}
  },
  {
   "cell_type": "code",
   "execution_count": 6,
   "source": [
    "# Learning rate scheduler 함수\n",
    "def lr_scheduler(epoch) :\n",
    "    # epoch이 진행됨에 따라 learning rate를 조절함\n",
    "    learning_rate = LEARNING_RATE\n",
    "    if epoch >= 80 :\n",
    "        learning_rate = LEARNING_RATE * 0.1\n",
    "    if epoch >= 120 :\n",
    "        learning_rate = LEARNING_RATE * 0.01\n",
    "    return learning_rate\n",
    "\n",
    "# Keras 에서 제공하는 LearningRateScheduler를 통해 callback 생성\n",
    "lr = tf.keras.callbacks.LearningRateScheduler(lr_scheduler)\n",
    "\n",
    "if os.path.exists(TRAINED_MODEL_PATH) is False :\n",
    "    os.makedirs(TRAINED_MODEL_PATH)\n",
    "    \n",
    "# Checkpoint 저장을 위한 callback\n",
    "# TRAINED_MODEL_PATH 에 'val_acc' 기준으로 최대값이 갱신될 때마다 저장하도록 구현\n",
    "save_callback = tf.keras.callbacks.ModelCheckpoint(\n",
    "                filepath=TRAINED_MODEL_PATH,\n",
    "                monitor='val_acc', verbose=1, save_best_only=True,\n",
    "                save_weights_only=False, mode='max', save_freq='epoch')\n",
    "\n",
    "# 필요한 callback 을 list 로 지정\n",
    "callback_list = [lr, save_callback]\n",
    "\n",
    "history = model.fit(datagen.flow(x_train, y_train, batch_size=BATCH_SIZE, subset='training'),\n",
    "                    # 학습에 사용할 데이터 : 미리 만들어둔 ImageDataGenerator pipeline에 x_train, y_train 입력하여 사용\n",
    "                    # subset = 'training' 으로 학습용 데이터라는 것을 pipeline에 알려주어야함\n",
    "                   validation_data=datagen.flow(x_train, y_train, batch_size=BATCH_SIZE, subset='validation'),\n",
    "                    # 검증에 사용할 데이터 : 미리 만들어둔 ImageDataGenerator pipeline에 x_train, y_train 입력하여 사용\n",
    "                    # subset = 'validation' 으로 검증용 데이터라는 것을 pipeline에 알려주어야함\n",
    "                    epochs=EPOCHS,              # epoch 횟수 입력\n",
    "                    shuffle=True,               # 매 epoch 학습 시작 전 데이터셋 무작위로 배치\n",
    "                    callbacks=[callback_list])  # 매 epoch이 종료될 때 호출할 callback 함수 지정\n",
    "\n"
   ],
   "outputs": [
    {
     "output_type": "stream",
     "name": "stdout",
     "text": [
      "Epoch 1/200\n",
      "1250/1250 [==============================] - 39s 29ms/step - loss: 1.7675 - acc: 0.3484 - val_loss: 1.5466 - val_acc: 0.4268\n",
      "\n",
      "Epoch 00001: val_acc improved from -inf to 0.42680, saving model to models_resnet20\n"
     ]
    },
    {
     "output_type": "stream",
     "name": "stderr",
     "text": [
      "WARNING:absl:Found untraced functions such as conv2d_1_layer_call_and_return_conditional_losses, conv2d_1_layer_call_fn, conv2d_2_layer_call_and_return_conditional_losses, conv2d_2_layer_call_fn, conv2d_3_layer_call_and_return_conditional_losses while saving (showing 5 of 180). These functions will not be directly callable after loading.\n"
     ]
    },
    {
     "output_type": "stream",
     "name": "stdout",
     "text": [
      "INFO:tensorflow:Assets written to: models_resnet20\\assets\n"
     ]
    },
    {
     "output_type": "stream",
     "name": "stderr",
     "text": [
      "INFO:tensorflow:Assets written to: models_resnet20\\assets\n"
     ]
    },
    {
     "output_type": "stream",
     "name": "stdout",
     "text": [
      "Epoch 2/200\n",
      "1250/1250 [==============================] - 34s 27ms/step - loss: 1.4548 - acc: 0.4681 - val_loss: 1.4207 - val_acc: 0.4967\n",
      "\n",
      "Epoch 00002: val_acc improved from 0.42680 to 0.49670, saving model to models_resnet20\n"
     ]
    },
    {
     "output_type": "stream",
     "name": "stderr",
     "text": [
      "WARNING:absl:Found untraced functions such as conv2d_1_layer_call_and_return_conditional_losses, conv2d_1_layer_call_fn, conv2d_2_layer_call_and_return_conditional_losses, conv2d_2_layer_call_fn, conv2d_3_layer_call_and_return_conditional_losses while saving (showing 5 of 180). These functions will not be directly callable after loading.\n"
     ]
    },
    {
     "output_type": "stream",
     "name": "stdout",
     "text": [
      "INFO:tensorflow:Assets written to: models_resnet20\\assets\n"
     ]
    },
    {
     "output_type": "stream",
     "name": "stderr",
     "text": [
      "INFO:tensorflow:Assets written to: models_resnet20\\assets\n"
     ]
    },
    {
     "output_type": "stream",
     "name": "stdout",
     "text": [
      "Epoch 3/200\n",
      "1250/1250 [==============================] - 35s 28ms/step - loss: 1.2938 - acc: 0.5329 - val_loss: 1.3116 - val_acc: 0.5325\n",
      "\n",
      "Epoch 00003: val_acc improved from 0.49670 to 0.53250, saving model to models_resnet20\n"
     ]
    },
    {
     "output_type": "stream",
     "name": "stderr",
     "text": [
      "WARNING:absl:Found untraced functions such as conv2d_1_layer_call_and_return_conditional_losses, conv2d_1_layer_call_fn, conv2d_2_layer_call_and_return_conditional_losses, conv2d_2_layer_call_fn, conv2d_3_layer_call_and_return_conditional_losses while saving (showing 5 of 180). These functions will not be directly callable after loading.\n"
     ]
    },
    {
     "output_type": "stream",
     "name": "stdout",
     "text": [
      "INFO:tensorflow:Assets written to: models_resnet20\\assets\n"
     ]
    },
    {
     "output_type": "stream",
     "name": "stderr",
     "text": [
      "INFO:tensorflow:Assets written to: models_resnet20\\assets\n"
     ]
    },
    {
     "output_type": "stream",
     "name": "stdout",
     "text": [
      "Epoch 4/200\n",
      "1250/1250 [==============================] - 35s 28ms/step - loss: 1.1604 - acc: 0.5845 - val_loss: 1.1260 - val_acc: 0.6067\n",
      "\n",
      "Epoch 00004: val_acc improved from 0.53250 to 0.60670, saving model to models_resnet20\n"
     ]
    },
    {
     "output_type": "stream",
     "name": "stderr",
     "text": [
      "WARNING:absl:Found untraced functions such as conv2d_1_layer_call_and_return_conditional_losses, conv2d_1_layer_call_fn, conv2d_2_layer_call_and_return_conditional_losses, conv2d_2_layer_call_fn, conv2d_3_layer_call_and_return_conditional_losses while saving (showing 5 of 180). These functions will not be directly callable after loading.\n"
     ]
    },
    {
     "output_type": "stream",
     "name": "stdout",
     "text": [
      "INFO:tensorflow:Assets written to: models_resnet20\\assets\n"
     ]
    },
    {
     "output_type": "stream",
     "name": "stderr",
     "text": [
      "INFO:tensorflow:Assets written to: models_resnet20\\assets\n"
     ]
    },
    {
     "output_type": "stream",
     "name": "stdout",
     "text": [
      "Epoch 5/200\n",
      "1250/1250 [==============================] - 35s 28ms/step - loss: 1.0688 - acc: 0.6194 - val_loss: 1.2260 - val_acc: 0.5675\n",
      "\n",
      "Epoch 00005: val_acc did not improve from 0.60670\n",
      "Epoch 6/200\n",
      "1250/1250 [==============================] - 35s 28ms/step - loss: 0.9893 - acc: 0.6496 - val_loss: 0.9851 - val_acc: 0.6558\n",
      "\n",
      "Epoch 00006: val_acc improved from 0.60670 to 0.65580, saving model to models_resnet20\n"
     ]
    },
    {
     "output_type": "stream",
     "name": "stderr",
     "text": [
      "WARNING:absl:Found untraced functions such as conv2d_1_layer_call_and_return_conditional_losses, conv2d_1_layer_call_fn, conv2d_2_layer_call_and_return_conditional_losses, conv2d_2_layer_call_fn, conv2d_3_layer_call_and_return_conditional_losses while saving (showing 5 of 180). These functions will not be directly callable after loading.\n"
     ]
    },
    {
     "output_type": "stream",
     "name": "stdout",
     "text": [
      "INFO:tensorflow:Assets written to: models_resnet20\\assets\n"
     ]
    },
    {
     "output_type": "stream",
     "name": "stderr",
     "text": [
      "INFO:tensorflow:Assets written to: models_resnet20\\assets\n"
     ]
    },
    {
     "output_type": "stream",
     "name": "stdout",
     "text": [
      "Epoch 7/200\n",
      "1250/1250 [==============================] - 35s 28ms/step - loss: 0.9313 - acc: 0.6700 - val_loss: 0.9226 - val_acc: 0.6729\n",
      "\n",
      "Epoch 00007: val_acc improved from 0.65580 to 0.67290, saving model to models_resnet20\n"
     ]
    },
    {
     "output_type": "stream",
     "name": "stderr",
     "text": [
      "WARNING:absl:Found untraced functions such as conv2d_1_layer_call_and_return_conditional_losses, conv2d_1_layer_call_fn, conv2d_2_layer_call_and_return_conditional_losses, conv2d_2_layer_call_fn, conv2d_3_layer_call_and_return_conditional_losses while saving (showing 5 of 180). These functions will not be directly callable after loading.\n"
     ]
    },
    {
     "output_type": "stream",
     "name": "stdout",
     "text": [
      "INFO:tensorflow:Assets written to: models_resnet20\\assets\n"
     ]
    },
    {
     "output_type": "stream",
     "name": "stderr",
     "text": [
      "INFO:tensorflow:Assets written to: models_resnet20\\assets\n"
     ]
    },
    {
     "output_type": "stream",
     "name": "stdout",
     "text": [
      "Epoch 8/200\n",
      "1250/1250 [==============================] - 35s 28ms/step - loss: 0.8674 - acc: 0.6957 - val_loss: 0.9603 - val_acc: 0.6662\n",
      "\n",
      "Epoch 00008: val_acc did not improve from 0.67290\n",
      "Epoch 9/200\n",
      "1250/1250 [==============================] - 35s 28ms/step - loss: 0.8261 - acc: 0.7091 - val_loss: 0.9251 - val_acc: 0.6808\n",
      "\n",
      "Epoch 00009: val_acc improved from 0.67290 to 0.68080, saving model to models_resnet20\n"
     ]
    },
    {
     "output_type": "stream",
     "name": "stderr",
     "text": [
      "WARNING:absl:Found untraced functions such as conv2d_1_layer_call_and_return_conditional_losses, conv2d_1_layer_call_fn, conv2d_2_layer_call_and_return_conditional_losses, conv2d_2_layer_call_fn, conv2d_3_layer_call_and_return_conditional_losses while saving (showing 5 of 180). These functions will not be directly callable after loading.\n"
     ]
    },
    {
     "output_type": "stream",
     "name": "stdout",
     "text": [
      "INFO:tensorflow:Assets written to: models_resnet20\\assets\n"
     ]
    },
    {
     "output_type": "stream",
     "name": "stderr",
     "text": [
      "INFO:tensorflow:Assets written to: models_resnet20\\assets\n"
     ]
    },
    {
     "output_type": "stream",
     "name": "stdout",
     "text": [
      "Epoch 10/200\n",
      "1250/1250 [==============================] - 35s 28ms/step - loss: 0.7809 - acc: 0.7275 - val_loss: 0.8897 - val_acc: 0.6876\n",
      "\n",
      "Epoch 00010: val_acc improved from 0.68080 to 0.68760, saving model to models_resnet20\n"
     ]
    },
    {
     "output_type": "stream",
     "name": "stderr",
     "text": [
      "WARNING:absl:Found untraced functions such as conv2d_1_layer_call_and_return_conditional_losses, conv2d_1_layer_call_fn, conv2d_2_layer_call_and_return_conditional_losses, conv2d_2_layer_call_fn, conv2d_3_layer_call_and_return_conditional_losses while saving (showing 5 of 180). These functions will not be directly callable after loading.\n"
     ]
    },
    {
     "output_type": "stream",
     "name": "stdout",
     "text": [
      "INFO:tensorflow:Assets written to: models_resnet20\\assets\n"
     ]
    },
    {
     "output_type": "stream",
     "name": "stderr",
     "text": [
      "INFO:tensorflow:Assets written to: models_resnet20\\assets\n"
     ]
    },
    {
     "output_type": "stream",
     "name": "stdout",
     "text": [
      "Epoch 11/200\n",
      "1250/1250 [==============================] - 35s 28ms/step - loss: 0.7461 - acc: 0.7402 - val_loss: 0.7652 - val_acc: 0.7278\n",
      "\n",
      "Epoch 00011: val_acc improved from 0.68760 to 0.72780, saving model to models_resnet20\n"
     ]
    },
    {
     "output_type": "stream",
     "name": "stderr",
     "text": [
      "WARNING:absl:Found untraced functions such as conv2d_1_layer_call_and_return_conditional_losses, conv2d_1_layer_call_fn, conv2d_2_layer_call_and_return_conditional_losses, conv2d_2_layer_call_fn, conv2d_3_layer_call_and_return_conditional_losses while saving (showing 5 of 180). These functions will not be directly callable after loading.\n"
     ]
    },
    {
     "output_type": "stream",
     "name": "stdout",
     "text": [
      "INFO:tensorflow:Assets written to: models_resnet20\\assets\n"
     ]
    },
    {
     "output_type": "stream",
     "name": "stderr",
     "text": [
      "INFO:tensorflow:Assets written to: models_resnet20\\assets\n"
     ]
    },
    {
     "output_type": "stream",
     "name": "stdout",
     "text": [
      "Epoch 12/200\n",
      "1250/1250 [==============================] - 35s 28ms/step - loss: 0.7160 - acc: 0.7517 - val_loss: 0.9492 - val_acc: 0.6830\n",
      "\n",
      "Epoch 00012: val_acc did not improve from 0.72780\n",
      "Epoch 13/200\n",
      "1250/1250 [==============================] - 35s 28ms/step - loss: 0.6824 - acc: 0.7638 - val_loss: 0.7715 - val_acc: 0.7408\n",
      "\n",
      "Epoch 00013: val_acc improved from 0.72780 to 0.74080, saving model to models_resnet20\n"
     ]
    },
    {
     "output_type": "stream",
     "name": "stderr",
     "text": [
      "WARNING:absl:Found untraced functions such as conv2d_1_layer_call_and_return_conditional_losses, conv2d_1_layer_call_fn, conv2d_2_layer_call_and_return_conditional_losses, conv2d_2_layer_call_fn, conv2d_3_layer_call_and_return_conditional_losses while saving (showing 5 of 180). These functions will not be directly callable after loading.\n"
     ]
    },
    {
     "output_type": "stream",
     "name": "stdout",
     "text": [
      "INFO:tensorflow:Assets written to: models_resnet20\\assets\n"
     ]
    },
    {
     "output_type": "stream",
     "name": "stderr",
     "text": [
      "INFO:tensorflow:Assets written to: models_resnet20\\assets\n"
     ]
    },
    {
     "output_type": "stream",
     "name": "stdout",
     "text": [
      "Epoch 14/200\n",
      "1250/1250 [==============================] - 35s 28ms/step - loss: 0.6590 - acc: 0.7727 - val_loss: 0.8183 - val_acc: 0.7211\n",
      "\n",
      "Epoch 00014: val_acc did not improve from 0.74080\n",
      "Epoch 15/200\n",
      "1250/1250 [==============================] - 35s 28ms/step - loss: 0.6344 - acc: 0.7799 - val_loss: 0.6981 - val_acc: 0.7591\n",
      "\n",
      "Epoch 00015: val_acc improved from 0.74080 to 0.75910, saving model to models_resnet20\n"
     ]
    },
    {
     "output_type": "stream",
     "name": "stderr",
     "text": [
      "WARNING:absl:Found untraced functions such as conv2d_1_layer_call_and_return_conditional_losses, conv2d_1_layer_call_fn, conv2d_2_layer_call_and_return_conditional_losses, conv2d_2_layer_call_fn, conv2d_3_layer_call_and_return_conditional_losses while saving (showing 5 of 180). These functions will not be directly callable after loading.\n"
     ]
    },
    {
     "output_type": "stream",
     "name": "stdout",
     "text": [
      "INFO:tensorflow:Assets written to: models_resnet20\\assets\n"
     ]
    },
    {
     "output_type": "stream",
     "name": "stderr",
     "text": [
      "INFO:tensorflow:Assets written to: models_resnet20\\assets\n"
     ]
    },
    {
     "output_type": "stream",
     "name": "stdout",
     "text": [
      "Epoch 16/200\n",
      "1250/1250 [==============================] - 35s 28ms/step - loss: 0.6165 - acc: 0.7846 - val_loss: 0.6996 - val_acc: 0.7582\n",
      "\n",
      "Epoch 00016: val_acc did not improve from 0.75910\n",
      "Epoch 17/200\n",
      "1250/1250 [==============================] - 35s 28ms/step - loss: 0.5948 - acc: 0.7933 - val_loss: 0.6842 - val_acc: 0.7620\n",
      "\n",
      "Epoch 00017: val_acc improved from 0.75910 to 0.76200, saving model to models_resnet20\n"
     ]
    },
    {
     "output_type": "stream",
     "name": "stderr",
     "text": [
      "WARNING:absl:Found untraced functions such as conv2d_1_layer_call_and_return_conditional_losses, conv2d_1_layer_call_fn, conv2d_2_layer_call_and_return_conditional_losses, conv2d_2_layer_call_fn, conv2d_3_layer_call_and_return_conditional_losses while saving (showing 5 of 180). These functions will not be directly callable after loading.\n"
     ]
    },
    {
     "output_type": "stream",
     "name": "stdout",
     "text": [
      "INFO:tensorflow:Assets written to: models_resnet20\\assets\n"
     ]
    },
    {
     "output_type": "stream",
     "name": "stderr",
     "text": [
      "INFO:tensorflow:Assets written to: models_resnet20\\assets\n"
     ]
    },
    {
     "output_type": "stream",
     "name": "stdout",
     "text": [
      "Epoch 18/200\n",
      "1250/1250 [==============================] - 35s 28ms/step - loss: 0.5740 - acc: 0.8026 - val_loss: 0.7085 - val_acc: 0.7548\n",
      "\n",
      "Epoch 00018: val_acc did not improve from 0.76200\n",
      "Epoch 19/200\n",
      "1250/1250 [==============================] - 35s 28ms/step - loss: 0.5540 - acc: 0.8073 - val_loss: 0.6577 - val_acc: 0.7741\n",
      "\n",
      "Epoch 00019: val_acc improved from 0.76200 to 0.77410, saving model to models_resnet20\n"
     ]
    },
    {
     "output_type": "stream",
     "name": "stderr",
     "text": [
      "WARNING:absl:Found untraced functions such as conv2d_1_layer_call_and_return_conditional_losses, conv2d_1_layer_call_fn, conv2d_2_layer_call_and_return_conditional_losses, conv2d_2_layer_call_fn, conv2d_3_layer_call_and_return_conditional_losses while saving (showing 5 of 180). These functions will not be directly callable after loading.\n"
     ]
    },
    {
     "output_type": "stream",
     "name": "stdout",
     "text": [
      "INFO:tensorflow:Assets written to: models_resnet20\\assets\n"
     ]
    },
    {
     "output_type": "stream",
     "name": "stderr",
     "text": [
      "INFO:tensorflow:Assets written to: models_resnet20\\assets\n"
     ]
    },
    {
     "output_type": "stream",
     "name": "stdout",
     "text": [
      "Epoch 20/200\n",
      "1250/1250 [==============================] - 35s 28ms/step - loss: 0.5452 - acc: 0.8107 - val_loss: 0.6636 - val_acc: 0.7741\n",
      "\n",
      "Epoch 00020: val_acc did not improve from 0.77410\n",
      "Epoch 21/200\n",
      "1250/1250 [==============================] - 35s 28ms/step - loss: 0.5302 - acc: 0.8169 - val_loss: 0.5982 - val_acc: 0.7913\n",
      "\n",
      "Epoch 00021: val_acc improved from 0.77410 to 0.79130, saving model to models_resnet20\n"
     ]
    },
    {
     "output_type": "stream",
     "name": "stderr",
     "text": [
      "WARNING:absl:Found untraced functions such as conv2d_1_layer_call_and_return_conditional_losses, conv2d_1_layer_call_fn, conv2d_2_layer_call_and_return_conditional_losses, conv2d_2_layer_call_fn, conv2d_3_layer_call_and_return_conditional_losses while saving (showing 5 of 180). These functions will not be directly callable after loading.\n"
     ]
    },
    {
     "output_type": "stream",
     "name": "stdout",
     "text": [
      "INFO:tensorflow:Assets written to: models_resnet20\\assets\n"
     ]
    },
    {
     "output_type": "stream",
     "name": "stderr",
     "text": [
      "INFO:tensorflow:Assets written to: models_resnet20\\assets\n"
     ]
    },
    {
     "output_type": "stream",
     "name": "stdout",
     "text": [
      "Epoch 22/200\n",
      "1250/1250 [==============================] - 35s 28ms/step - loss: 0.5067 - acc: 0.8252 - val_loss: 0.5978 - val_acc: 0.8022\n",
      "\n",
      "Epoch 00022: val_acc improved from 0.79130 to 0.80220, saving model to models_resnet20\n"
     ]
    },
    {
     "output_type": "stream",
     "name": "stderr",
     "text": [
      "WARNING:absl:Found untraced functions such as conv2d_1_layer_call_and_return_conditional_losses, conv2d_1_layer_call_fn, conv2d_2_layer_call_and_return_conditional_losses, conv2d_2_layer_call_fn, conv2d_3_layer_call_and_return_conditional_losses while saving (showing 5 of 180). These functions will not be directly callable after loading.\n"
     ]
    },
    {
     "output_type": "stream",
     "name": "stdout",
     "text": [
      "INFO:tensorflow:Assets written to: models_resnet20\\assets\n"
     ]
    },
    {
     "output_type": "stream",
     "name": "stderr",
     "text": [
      "INFO:tensorflow:Assets written to: models_resnet20\\assets\n"
     ]
    },
    {
     "output_type": "stream",
     "name": "stdout",
     "text": [
      "Epoch 23/200\n",
      "1250/1250 [==============================] - 35s 28ms/step - loss: 0.5006 - acc: 0.8251 - val_loss: 0.5974 - val_acc: 0.7982\n",
      "\n",
      "Epoch 00023: val_acc did not improve from 0.80220\n",
      "Epoch 24/200\n",
      "1250/1250 [==============================] - 35s 28ms/step - loss: 0.4891 - acc: 0.8293 - val_loss: 0.5810 - val_acc: 0.7999\n",
      "\n",
      "Epoch 00024: val_acc did not improve from 0.80220\n",
      "Epoch 25/200\n",
      "1250/1250 [==============================] - 35s 28ms/step - loss: 0.4758 - acc: 0.8339 - val_loss: 0.5959 - val_acc: 0.7975\n",
      "\n",
      "Epoch 00025: val_acc did not improve from 0.80220\n",
      "Epoch 26/200\n",
      "1250/1250 [==============================] - 35s 28ms/step - loss: 0.4632 - acc: 0.8384 - val_loss: 0.6036 - val_acc: 0.7975\n",
      "\n",
      "Epoch 00026: val_acc did not improve from 0.80220\n",
      "Epoch 27/200\n",
      "1250/1250 [==============================] - 35s 28ms/step - loss: 0.4509 - acc: 0.8446 - val_loss: 0.5872 - val_acc: 0.7969\n",
      "\n",
      "Epoch 00027: val_acc did not improve from 0.80220\n",
      "Epoch 28/200\n",
      "1250/1250 [==============================] - 35s 28ms/step - loss: 0.4343 - acc: 0.8469 - val_loss: 0.5719 - val_acc: 0.8051\n",
      "\n",
      "Epoch 00028: val_acc improved from 0.80220 to 0.80510, saving model to models_resnet20\n"
     ]
    },
    {
     "output_type": "stream",
     "name": "stderr",
     "text": [
      "WARNING:absl:Found untraced functions such as conv2d_1_layer_call_and_return_conditional_losses, conv2d_1_layer_call_fn, conv2d_2_layer_call_and_return_conditional_losses, conv2d_2_layer_call_fn, conv2d_3_layer_call_and_return_conditional_losses while saving (showing 5 of 180). These functions will not be directly callable after loading.\n"
     ]
    },
    {
     "output_type": "stream",
     "name": "stdout",
     "text": [
      "INFO:tensorflow:Assets written to: models_resnet20\\assets\n"
     ]
    },
    {
     "output_type": "stream",
     "name": "stderr",
     "text": [
      "INFO:tensorflow:Assets written to: models_resnet20\\assets\n"
     ]
    },
    {
     "output_type": "stream",
     "name": "stdout",
     "text": [
      "Epoch 29/200\n",
      "1250/1250 [==============================] - 35s 28ms/step - loss: 0.4320 - acc: 0.8508 - val_loss: 0.6517 - val_acc: 0.7862\n",
      "\n",
      "Epoch 00029: val_acc did not improve from 0.80510\n",
      "Epoch 30/200\n",
      "1250/1250 [==============================] - 34s 28ms/step - loss: 0.4250 - acc: 0.8533 - val_loss: 0.5638 - val_acc: 0.8054\n",
      "\n",
      "Epoch 00030: val_acc improved from 0.80510 to 0.80540, saving model to models_resnet20\n"
     ]
    },
    {
     "output_type": "stream",
     "name": "stderr",
     "text": [
      "WARNING:absl:Found untraced functions such as conv2d_1_layer_call_and_return_conditional_losses, conv2d_1_layer_call_fn, conv2d_2_layer_call_and_return_conditional_losses, conv2d_2_layer_call_fn, conv2d_3_layer_call_and_return_conditional_losses while saving (showing 5 of 180). These functions will not be directly callable after loading.\n"
     ]
    },
    {
     "output_type": "stream",
     "name": "stdout",
     "text": [
      "INFO:tensorflow:Assets written to: models_resnet20\\assets\n"
     ]
    },
    {
     "output_type": "stream",
     "name": "stderr",
     "text": [
      "INFO:tensorflow:Assets written to: models_resnet20\\assets\n"
     ]
    },
    {
     "output_type": "stream",
     "name": "stdout",
     "text": [
      "Epoch 31/200\n",
      "1250/1250 [==============================] - 35s 28ms/step - loss: 0.4085 - acc: 0.8579 - val_loss: 0.7255 - val_acc: 0.7646\n",
      "\n",
      "Epoch 00031: val_acc did not improve from 0.80540\n",
      "Epoch 32/200\n",
      "1250/1250 [==============================] - 35s 28ms/step - loss: 0.4029 - acc: 0.8583 - val_loss: 0.5182 - val_acc: 0.8233\n",
      "\n",
      "Epoch 00032: val_acc improved from 0.80540 to 0.82330, saving model to models_resnet20\n"
     ]
    },
    {
     "output_type": "stream",
     "name": "stderr",
     "text": [
      "WARNING:absl:Found untraced functions such as conv2d_1_layer_call_and_return_conditional_losses, conv2d_1_layer_call_fn, conv2d_2_layer_call_and_return_conditional_losses, conv2d_2_layer_call_fn, conv2d_3_layer_call_and_return_conditional_losses while saving (showing 5 of 180). These functions will not be directly callable after loading.\n"
     ]
    },
    {
     "output_type": "stream",
     "name": "stdout",
     "text": [
      "INFO:tensorflow:Assets written to: models_resnet20\\assets\n"
     ]
    },
    {
     "output_type": "stream",
     "name": "stderr",
     "text": [
      "INFO:tensorflow:Assets written to: models_resnet20\\assets\n"
     ]
    },
    {
     "output_type": "stream",
     "name": "stdout",
     "text": [
      "Epoch 33/200\n",
      "1250/1250 [==============================] - 35s 28ms/step - loss: 0.3951 - acc: 0.8614 - val_loss: 0.5606 - val_acc: 0.8146\n",
      "\n",
      "Epoch 00033: val_acc did not improve from 0.82330\n",
      "Epoch 34/200\n",
      "1250/1250 [==============================] - 35s 28ms/step - loss: 0.3804 - acc: 0.8689 - val_loss: 0.5508 - val_acc: 0.8131\n",
      "\n",
      "Epoch 00034: val_acc did not improve from 0.82330\n",
      "Epoch 35/200\n",
      "1250/1250 [==============================] - 35s 28ms/step - loss: 0.3797 - acc: 0.8676 - val_loss: 0.5214 - val_acc: 0.8210\n",
      "\n",
      "Epoch 00035: val_acc did not improve from 0.82330\n",
      "Epoch 36/200\n",
      "1250/1250 [==============================] - 35s 28ms/step - loss: 0.3663 - acc: 0.8726 - val_loss: 0.5213 - val_acc: 0.8278\n",
      "\n",
      "Epoch 00036: val_acc improved from 0.82330 to 0.82780, saving model to models_resnet20\n"
     ]
    },
    {
     "output_type": "stream",
     "name": "stderr",
     "text": [
      "WARNING:absl:Found untraced functions such as conv2d_1_layer_call_and_return_conditional_losses, conv2d_1_layer_call_fn, conv2d_2_layer_call_and_return_conditional_losses, conv2d_2_layer_call_fn, conv2d_3_layer_call_and_return_conditional_losses while saving (showing 5 of 180). These functions will not be directly callable after loading.\n"
     ]
    },
    {
     "output_type": "stream",
     "name": "stdout",
     "text": [
      "INFO:tensorflow:Assets written to: models_resnet20\\assets\n"
     ]
    },
    {
     "output_type": "stream",
     "name": "stderr",
     "text": [
      "INFO:tensorflow:Assets written to: models_resnet20\\assets\n"
     ]
    },
    {
     "output_type": "stream",
     "name": "stdout",
     "text": [
      "Epoch 37/200\n",
      "1250/1250 [==============================] - 35s 28ms/step - loss: 0.3634 - acc: 0.8744 - val_loss: 0.5789 - val_acc: 0.8114\n",
      "\n",
      "Epoch 00037: val_acc did not improve from 0.82780\n",
      "Epoch 38/200\n",
      "1250/1250 [==============================] - 35s 28ms/step - loss: 0.3596 - acc: 0.8753 - val_loss: 0.6092 - val_acc: 0.8068\n",
      "\n",
      "Epoch 00038: val_acc did not improve from 0.82780\n",
      "Epoch 39/200\n",
      "1250/1250 [==============================] - 35s 28ms/step - loss: 0.3528 - acc: 0.8775 - val_loss: 0.5846 - val_acc: 0.8069\n",
      "\n",
      "Epoch 00039: val_acc did not improve from 0.82780\n",
      "Epoch 40/200\n",
      "1250/1250 [==============================] - 35s 28ms/step - loss: 0.3396 - acc: 0.8813 - val_loss: 0.6671 - val_acc: 0.7843\n",
      "\n",
      "Epoch 00040: val_acc did not improve from 0.82780\n",
      "Epoch 41/200\n",
      "1250/1250 [==============================] - 35s 28ms/step - loss: 0.3380 - acc: 0.8813 - val_loss: 0.5444 - val_acc: 0.8245\n",
      "\n",
      "Epoch 00041: val_acc did not improve from 0.82780\n",
      "Epoch 42/200\n",
      "1250/1250 [==============================] - 35s 28ms/step - loss: 0.3280 - acc: 0.8863 - val_loss: 0.5435 - val_acc: 0.8169\n",
      "\n",
      "Epoch 00042: val_acc did not improve from 0.82780\n",
      "Epoch 43/200\n",
      "1250/1250 [==============================] - 34s 28ms/step - loss: 0.3201 - acc: 0.8877 - val_loss: 0.5726 - val_acc: 0.8155\n",
      "\n",
      "Epoch 00043: val_acc did not improve from 0.82780\n",
      "Epoch 44/200\n",
      "1250/1250 [==============================] - 35s 28ms/step - loss: 0.3216 - acc: 0.8866 - val_loss: 0.5637 - val_acc: 0.8162\n",
      "\n",
      "Epoch 00044: val_acc did not improve from 0.82780\n",
      "Epoch 45/200\n",
      "1250/1250 [==============================] - 35s 28ms/step - loss: 0.3093 - acc: 0.8926 - val_loss: 0.5554 - val_acc: 0.8261\n",
      "\n",
      "Epoch 00045: val_acc did not improve from 0.82780\n",
      "Epoch 46/200\n",
      "1250/1250 [==============================] - 35s 28ms/step - loss: 0.3071 - acc: 0.8920 - val_loss: 0.5157 - val_acc: 0.8278\n",
      "\n",
      "Epoch 00046: val_acc did not improve from 0.82780\n",
      "Epoch 47/200\n",
      "1250/1250 [==============================] - 35s 28ms/step - loss: 0.2957 - acc: 0.8968 - val_loss: 0.4986 - val_acc: 0.8350\n",
      "\n",
      "Epoch 00047: val_acc improved from 0.82780 to 0.83500, saving model to models_resnet20\n"
     ]
    },
    {
     "output_type": "stream",
     "name": "stderr",
     "text": [
      "WARNING:absl:Found untraced functions such as conv2d_1_layer_call_and_return_conditional_losses, conv2d_1_layer_call_fn, conv2d_2_layer_call_and_return_conditional_losses, conv2d_2_layer_call_fn, conv2d_3_layer_call_and_return_conditional_losses while saving (showing 5 of 180). These functions will not be directly callable after loading.\n"
     ]
    },
    {
     "output_type": "stream",
     "name": "stdout",
     "text": [
      "INFO:tensorflow:Assets written to: models_resnet20\\assets\n"
     ]
    },
    {
     "output_type": "stream",
     "name": "stderr",
     "text": [
      "INFO:tensorflow:Assets written to: models_resnet20\\assets\n"
     ]
    },
    {
     "output_type": "stream",
     "name": "stdout",
     "text": [
      "Epoch 48/200\n",
      "1250/1250 [==============================] - 35s 28ms/step - loss: 0.2977 - acc: 0.8956 - val_loss: 0.5267 - val_acc: 0.8255\n",
      "\n",
      "Epoch 00048: val_acc did not improve from 0.83500\n",
      "Epoch 49/200\n",
      "1250/1250 [==============================] - 35s 28ms/step - loss: 0.2885 - acc: 0.8991 - val_loss: 0.6499 - val_acc: 0.7909\n",
      "\n",
      "Epoch 00049: val_acc did not improve from 0.83500\n",
      "Epoch 50/200\n",
      "1250/1250 [==============================] - 35s 28ms/step - loss: 0.2874 - acc: 0.8976 - val_loss: 0.5212 - val_acc: 0.8299\n",
      "\n",
      "Epoch 00050: val_acc did not improve from 0.83500\n",
      "Epoch 51/200\n",
      "1250/1250 [==============================] - 35s 28ms/step - loss: 0.2749 - acc: 0.9039 - val_loss: 0.5344 - val_acc: 0.8320\n",
      "\n",
      "Epoch 00051: val_acc did not improve from 0.83500\n",
      "Epoch 52/200\n",
      "1250/1250 [==============================] - 35s 28ms/step - loss: 0.2797 - acc: 0.9022 - val_loss: 0.5022 - val_acc: 0.8346\n",
      "\n",
      "Epoch 00052: val_acc did not improve from 0.83500\n",
      "Epoch 53/200\n",
      "1250/1250 [==============================] - 35s 28ms/step - loss: 0.2666 - acc: 0.9064 - val_loss: 0.5473 - val_acc: 0.8293\n",
      "\n",
      "Epoch 00053: val_acc did not improve from 0.83500\n",
      "Epoch 54/200\n",
      "1250/1250 [==============================] - 35s 28ms/step - loss: 0.2662 - acc: 0.9054 - val_loss: 0.4427 - val_acc: 0.8566\n",
      "\n",
      "Epoch 00054: val_acc improved from 0.83500 to 0.85660, saving model to models_resnet20\n"
     ]
    },
    {
     "output_type": "stream",
     "name": "stderr",
     "text": [
      "WARNING:absl:Found untraced functions such as conv2d_1_layer_call_and_return_conditional_losses, conv2d_1_layer_call_fn, conv2d_2_layer_call_and_return_conditional_losses, conv2d_2_layer_call_fn, conv2d_3_layer_call_and_return_conditional_losses while saving (showing 5 of 180). These functions will not be directly callable after loading.\n"
     ]
    },
    {
     "output_type": "stream",
     "name": "stdout",
     "text": [
      "INFO:tensorflow:Assets written to: models_resnet20\\assets\n"
     ]
    },
    {
     "output_type": "stream",
     "name": "stderr",
     "text": [
      "INFO:tensorflow:Assets written to: models_resnet20\\assets\n"
     ]
    },
    {
     "output_type": "stream",
     "name": "stdout",
     "text": [
      "Epoch 55/200\n",
      "1250/1250 [==============================] - 35s 28ms/step - loss: 0.2616 - acc: 0.9079 - val_loss: 0.5948 - val_acc: 0.8190\n",
      "\n",
      "Epoch 00055: val_acc did not improve from 0.85660\n",
      "Epoch 56/200\n",
      "1250/1250 [==============================] - 34s 28ms/step - loss: 0.2546 - acc: 0.9112 - val_loss: 0.4714 - val_acc: 0.8442\n",
      "\n",
      "Epoch 00056: val_acc did not improve from 0.85660\n",
      "Epoch 57/200\n",
      "1250/1250 [==============================] - 35s 28ms/step - loss: 0.2557 - acc: 0.9091 - val_loss: 0.5141 - val_acc: 0.8368\n",
      "\n",
      "Epoch 00057: val_acc did not improve from 0.85660\n",
      "Epoch 58/200\n",
      "1250/1250 [==============================] - 34s 27ms/step - loss: 0.2504 - acc: 0.9109 - val_loss: 0.4998 - val_acc: 0.8400\n",
      "\n",
      "Epoch 00058: val_acc did not improve from 0.85660\n",
      "Epoch 59/200\n",
      "1250/1250 [==============================] - 35s 28ms/step - loss: 0.2356 - acc: 0.9176 - val_loss: 0.4595 - val_acc: 0.8541\n",
      "\n",
      "Epoch 00059: val_acc did not improve from 0.85660\n",
      "Epoch 60/200\n",
      "1250/1250 [==============================] - 35s 28ms/step - loss: 0.2431 - acc: 0.9141 - val_loss: 0.6608 - val_acc: 0.8034\n",
      "\n",
      "Epoch 00060: val_acc did not improve from 0.85660\n",
      "Epoch 61/200\n",
      "1250/1250 [==============================] - 35s 28ms/step - loss: 0.2360 - acc: 0.9162 - val_loss: 0.5008 - val_acc: 0.8450\n",
      "\n",
      "Epoch 00061: val_acc did not improve from 0.85660\n",
      "Epoch 62/200\n",
      "1250/1250 [==============================] - 35s 28ms/step - loss: 0.2328 - acc: 0.9179 - val_loss: 0.6065 - val_acc: 0.8120\n",
      "\n",
      "Epoch 00062: val_acc did not improve from 0.85660\n",
      "Epoch 63/200\n",
      "1250/1250 [==============================] - 35s 28ms/step - loss: 0.2357 - acc: 0.9172 - val_loss: 0.4981 - val_acc: 0.8492\n",
      "\n",
      "Epoch 00063: val_acc did not improve from 0.85660\n",
      "Epoch 64/200\n",
      "1250/1250 [==============================] - 35s 28ms/step - loss: 0.2276 - acc: 0.9187 - val_loss: 0.4711 - val_acc: 0.8495\n",
      "\n",
      "Epoch 00064: val_acc did not improve from 0.85660\n",
      "Epoch 65/200\n",
      "1250/1250 [==============================] - 35s 28ms/step - loss: 0.2219 - acc: 0.9219 - val_loss: 0.5934 - val_acc: 0.8205\n",
      "\n",
      "Epoch 00065: val_acc did not improve from 0.85660\n",
      "Epoch 66/200\n",
      "1250/1250 [==============================] - 35s 28ms/step - loss: 0.2197 - acc: 0.9225 - val_loss: 0.5549 - val_acc: 0.8288\n",
      "\n",
      "Epoch 00066: val_acc did not improve from 0.85660\n",
      "Epoch 67/200\n",
      "1250/1250 [==============================] - 35s 28ms/step - loss: 0.2193 - acc: 0.9224 - val_loss: 0.4637 - val_acc: 0.8538\n",
      "\n",
      "Epoch 00067: val_acc did not improve from 0.85660\n",
      "Epoch 68/200\n",
      "1250/1250 [==============================] - 35s 28ms/step - loss: 0.2134 - acc: 0.9250 - val_loss: 0.5407 - val_acc: 0.8344\n",
      "\n",
      "Epoch 00068: val_acc did not improve from 0.85660\n",
      "Epoch 69/200\n",
      "1250/1250 [==============================] - 35s 28ms/step - loss: 0.2075 - acc: 0.9261 - val_loss: 0.5016 - val_acc: 0.8445\n",
      "\n",
      "Epoch 00069: val_acc did not improve from 0.85660\n",
      "Epoch 70/200\n",
      "1250/1250 [==============================] - 36s 28ms/step - loss: 0.2087 - acc: 0.9246 - val_loss: 0.5681 - val_acc: 0.8337\n",
      "\n",
      "Epoch 00070: val_acc did not improve from 0.85660\n",
      "Epoch 71/200\n",
      "1250/1250 [==============================] - 35s 28ms/step - loss: 0.2061 - acc: 0.9271 - val_loss: 0.4886 - val_acc: 0.8484\n",
      "\n",
      "Epoch 00071: val_acc did not improve from 0.85660\n",
      "Epoch 72/200\n",
      "1250/1250 [==============================] - 35s 28ms/step - loss: 0.2011 - acc: 0.9293 - val_loss: 0.5275 - val_acc: 0.8390\n",
      "\n",
      "Epoch 00072: val_acc did not improve from 0.85660\n",
      "Epoch 73/200\n",
      "1250/1250 [==============================] - 35s 28ms/step - loss: 0.2010 - acc: 0.9294 - val_loss: 0.5471 - val_acc: 0.8348\n",
      "\n",
      "Epoch 00073: val_acc did not improve from 0.85660\n",
      "Epoch 74/200\n",
      "1250/1250 [==============================] - 35s 28ms/step - loss: 0.1918 - acc: 0.9313 - val_loss: 0.5037 - val_acc: 0.8511\n",
      "\n",
      "Epoch 00074: val_acc did not improve from 0.85660\n",
      "Epoch 75/200\n",
      "1250/1250 [==============================] - 35s 28ms/step - loss: 0.1881 - acc: 0.9339 - val_loss: 0.4881 - val_acc: 0.8504\n",
      "\n",
      "Epoch 00075: val_acc did not improve from 0.85660\n",
      "Epoch 76/200\n",
      "1250/1250 [==============================] - 35s 28ms/step - loss: 0.1914 - acc: 0.9322 - val_loss: 0.4914 - val_acc: 0.8477\n",
      "\n",
      "Epoch 00076: val_acc did not improve from 0.85660\n",
      "Epoch 77/200\n",
      "1250/1250 [==============================] - 35s 28ms/step - loss: 0.1878 - acc: 0.9339 - val_loss: 0.5477 - val_acc: 0.8330\n",
      "\n",
      "Epoch 00077: val_acc did not improve from 0.85660\n",
      "Epoch 78/200\n",
      "1250/1250 [==============================] - 36s 28ms/step - loss: 0.1795 - acc: 0.9379 - val_loss: 0.4989 - val_acc: 0.8458\n",
      "\n",
      "Epoch 00078: val_acc did not improve from 0.85660\n",
      "Epoch 79/200\n",
      "1250/1250 [==============================] - 35s 28ms/step - loss: 0.1773 - acc: 0.9371 - val_loss: 0.4934 - val_acc: 0.8491\n",
      "\n",
      "Epoch 00079: val_acc did not improve from 0.85660\n",
      "Epoch 80/200\n",
      "1250/1250 [==============================] - 35s 28ms/step - loss: 0.1761 - acc: 0.9378 - val_loss: 0.4823 - val_acc: 0.8521\n",
      "\n",
      "Epoch 00080: val_acc did not improve from 0.85660\n",
      "Epoch 81/200\n",
      "1250/1250 [==============================] - 35s 28ms/step - loss: 0.1382 - acc: 0.9523 - val_loss: 0.4237 - val_acc: 0.8686\n",
      "\n",
      "Epoch 00081: val_acc improved from 0.85660 to 0.86860, saving model to models_resnet20\n"
     ]
    },
    {
     "output_type": "stream",
     "name": "stderr",
     "text": [
      "WARNING:absl:Found untraced functions such as conv2d_1_layer_call_and_return_conditional_losses, conv2d_1_layer_call_fn, conv2d_2_layer_call_and_return_conditional_losses, conv2d_2_layer_call_fn, conv2d_3_layer_call_and_return_conditional_losses while saving (showing 5 of 180). These functions will not be directly callable after loading.\n"
     ]
    },
    {
     "output_type": "stream",
     "name": "stdout",
     "text": [
      "INFO:tensorflow:Assets written to: models_resnet20\\assets\n"
     ]
    },
    {
     "output_type": "stream",
     "name": "stderr",
     "text": [
      "INFO:tensorflow:Assets written to: models_resnet20\\assets\n"
     ]
    },
    {
     "output_type": "stream",
     "name": "stdout",
     "text": [
      "Epoch 82/200\n",
      "1250/1250 [==============================] - 35s 28ms/step - loss: 0.1238 - acc: 0.9575 - val_loss: 0.3986 - val_acc: 0.8785\n",
      "\n",
      "Epoch 00082: val_acc improved from 0.86860 to 0.87850, saving model to models_resnet20\n"
     ]
    },
    {
     "output_type": "stream",
     "name": "stderr",
     "text": [
      "WARNING:absl:Found untraced functions such as conv2d_1_layer_call_and_return_conditional_losses, conv2d_1_layer_call_fn, conv2d_2_layer_call_and_return_conditional_losses, conv2d_2_layer_call_fn, conv2d_3_layer_call_and_return_conditional_losses while saving (showing 5 of 180). These functions will not be directly callable after loading.\n"
     ]
    },
    {
     "output_type": "stream",
     "name": "stdout",
     "text": [
      "INFO:tensorflow:Assets written to: models_resnet20\\assets\n"
     ]
    },
    {
     "output_type": "stream",
     "name": "stderr",
     "text": [
      "INFO:tensorflow:Assets written to: models_resnet20\\assets\n"
     ]
    },
    {
     "output_type": "stream",
     "name": "stdout",
     "text": [
      "Epoch 83/200\n",
      "1250/1250 [==============================] - 35s 28ms/step - loss: 0.1161 - acc: 0.9604 - val_loss: 0.4069 - val_acc: 0.8802\n",
      "\n",
      "Epoch 00083: val_acc improved from 0.87850 to 0.88020, saving model to models_resnet20\n"
     ]
    },
    {
     "output_type": "stream",
     "name": "stderr",
     "text": [
      "WARNING:absl:Found untraced functions such as conv2d_1_layer_call_and_return_conditional_losses, conv2d_1_layer_call_fn, conv2d_2_layer_call_and_return_conditional_losses, conv2d_2_layer_call_fn, conv2d_3_layer_call_and_return_conditional_losses while saving (showing 5 of 180). These functions will not be directly callable after loading.\n"
     ]
    },
    {
     "output_type": "stream",
     "name": "stdout",
     "text": [
      "INFO:tensorflow:Assets written to: models_resnet20\\assets\n"
     ]
    },
    {
     "output_type": "stream",
     "name": "stderr",
     "text": [
      "INFO:tensorflow:Assets written to: models_resnet20\\assets\n"
     ]
    },
    {
     "output_type": "stream",
     "name": "stdout",
     "text": [
      "Epoch 84/200\n",
      "1250/1250 [==============================] - 35s 28ms/step - loss: 0.1115 - acc: 0.9622 - val_loss: 0.3921 - val_acc: 0.8810\n",
      "\n",
      "Epoch 00084: val_acc improved from 0.88020 to 0.88100, saving model to models_resnet20\n"
     ]
    },
    {
     "output_type": "stream",
     "name": "stderr",
     "text": [
      "WARNING:absl:Found untraced functions such as conv2d_1_layer_call_and_return_conditional_losses, conv2d_1_layer_call_fn, conv2d_2_layer_call_and_return_conditional_losses, conv2d_2_layer_call_fn, conv2d_3_layer_call_and_return_conditional_losses while saving (showing 5 of 180). These functions will not be directly callable after loading.\n"
     ]
    },
    {
     "output_type": "stream",
     "name": "stdout",
     "text": [
      "INFO:tensorflow:Assets written to: models_resnet20\\assets\n"
     ]
    },
    {
     "output_type": "stream",
     "name": "stderr",
     "text": [
      "INFO:tensorflow:Assets written to: models_resnet20\\assets\n"
     ]
    },
    {
     "output_type": "stream",
     "name": "stdout",
     "text": [
      "Epoch 85/200\n",
      "1250/1250 [==============================] - 35s 28ms/step - loss: 0.1104 - acc: 0.9617 - val_loss: 0.3935 - val_acc: 0.8812\n",
      "\n",
      "Epoch 00085: val_acc improved from 0.88100 to 0.88120, saving model to models_resnet20\n"
     ]
    },
    {
     "output_type": "stream",
     "name": "stderr",
     "text": [
      "WARNING:absl:Found untraced functions such as conv2d_1_layer_call_and_return_conditional_losses, conv2d_1_layer_call_fn, conv2d_2_layer_call_and_return_conditional_losses, conv2d_2_layer_call_fn, conv2d_3_layer_call_and_return_conditional_losses while saving (showing 5 of 180). These functions will not be directly callable after loading.\n"
     ]
    },
    {
     "output_type": "stream",
     "name": "stdout",
     "text": [
      "INFO:tensorflow:Assets written to: models_resnet20\\assets\n"
     ]
    },
    {
     "output_type": "stream",
     "name": "stderr",
     "text": [
      "INFO:tensorflow:Assets written to: models_resnet20\\assets\n"
     ]
    },
    {
     "output_type": "stream",
     "name": "stdout",
     "text": [
      "Epoch 86/200\n",
      "1250/1250 [==============================] - 35s 28ms/step - loss: 0.1076 - acc: 0.9635 - val_loss: 0.3997 - val_acc: 0.8759\n",
      "\n",
      "Epoch 00086: val_acc did not improve from 0.88120\n",
      "Epoch 87/200\n",
      "1250/1250 [==============================] - 36s 28ms/step - loss: 0.1071 - acc: 0.9643 - val_loss: 0.4134 - val_acc: 0.8766\n",
      "\n",
      "Epoch 00087: val_acc did not improve from 0.88120\n",
      "Epoch 88/200\n",
      "1250/1250 [==============================] - 35s 28ms/step - loss: 0.1094 - acc: 0.9623 - val_loss: 0.4031 - val_acc: 0.8793\n",
      "\n",
      "Epoch 00088: val_acc did not improve from 0.88120\n",
      "Epoch 89/200\n",
      "1250/1250 [==============================] - 35s 28ms/step - loss: 0.1059 - acc: 0.9636 - val_loss: 0.4038 - val_acc: 0.8769\n",
      "\n",
      "Epoch 00089: val_acc did not improve from 0.88120\n",
      "Epoch 90/200\n",
      "1250/1250 [==============================] - 35s 28ms/step - loss: 0.1051 - acc: 0.9636 - val_loss: 0.4013 - val_acc: 0.8793\n",
      "\n",
      "Epoch 00090: val_acc did not improve from 0.88120\n",
      "Epoch 91/200\n",
      "1250/1250 [==============================] - 36s 28ms/step - loss: 0.1018 - acc: 0.9652 - val_loss: 0.4023 - val_acc: 0.8793\n",
      "\n",
      "Epoch 00091: val_acc did not improve from 0.88120\n",
      "Epoch 92/200\n",
      "1250/1250 [==============================] - 35s 28ms/step - loss: 0.0992 - acc: 0.9656 - val_loss: 0.4040 - val_acc: 0.8790\n",
      "\n",
      "Epoch 00092: val_acc did not improve from 0.88120\n",
      "Epoch 93/200\n",
      "1250/1250 [==============================] - 35s 28ms/step - loss: 0.1007 - acc: 0.9660 - val_loss: 0.4089 - val_acc: 0.8780\n",
      "\n",
      "Epoch 00093: val_acc did not improve from 0.88120\n",
      "Epoch 94/200\n",
      "1250/1250 [==============================] - 35s 28ms/step - loss: 0.1003 - acc: 0.9660 - val_loss: 0.4001 - val_acc: 0.8830\n",
      "\n",
      "Epoch 00094: val_acc improved from 0.88120 to 0.88300, saving model to models_resnet20\n"
     ]
    },
    {
     "output_type": "stream",
     "name": "stderr",
     "text": [
      "WARNING:absl:Found untraced functions such as conv2d_1_layer_call_and_return_conditional_losses, conv2d_1_layer_call_fn, conv2d_2_layer_call_and_return_conditional_losses, conv2d_2_layer_call_fn, conv2d_3_layer_call_and_return_conditional_losses while saving (showing 5 of 180). These functions will not be directly callable after loading.\n"
     ]
    },
    {
     "output_type": "stream",
     "name": "stdout",
     "text": [
      "INFO:tensorflow:Assets written to: models_resnet20\\assets\n"
     ]
    },
    {
     "output_type": "stream",
     "name": "stderr",
     "text": [
      "INFO:tensorflow:Assets written to: models_resnet20\\assets\n"
     ]
    },
    {
     "output_type": "stream",
     "name": "stdout",
     "text": [
      "Epoch 95/200\n",
      "1250/1250 [==============================] - 35s 28ms/step - loss: 0.1009 - acc: 0.9659 - val_loss: 0.4052 - val_acc: 0.8782\n",
      "\n",
      "Epoch 00095: val_acc did not improve from 0.88300\n",
      "Epoch 96/200\n",
      "1250/1250 [==============================] - 34s 27ms/step - loss: 0.0965 - acc: 0.9674 - val_loss: 0.4185 - val_acc: 0.8726\n",
      "\n",
      "Epoch 00096: val_acc did not improve from 0.88300\n",
      "Epoch 97/200\n",
      "1250/1250 [==============================] - 35s 28ms/step - loss: 0.0971 - acc: 0.9677 - val_loss: 0.4028 - val_acc: 0.8819\n",
      "\n",
      "Epoch 00097: val_acc did not improve from 0.88300\n",
      "Epoch 98/200\n",
      "1250/1250 [==============================] - 35s 28ms/step - loss: 0.0952 - acc: 0.9668 - val_loss: 0.4065 - val_acc: 0.8799\n",
      "\n",
      "Epoch 00098: val_acc did not improve from 0.88300\n",
      "Epoch 99/200\n",
      "1250/1250 [==============================] - 35s 28ms/step - loss: 0.0971 - acc: 0.9675 - val_loss: 0.4051 - val_acc: 0.8808\n",
      "\n",
      "Epoch 00099: val_acc did not improve from 0.88300\n",
      "Epoch 100/200\n",
      "1250/1250 [==============================] - 35s 28ms/step - loss: 0.0921 - acc: 0.9696 - val_loss: 0.4184 - val_acc: 0.8811\n",
      "\n",
      "Epoch 00100: val_acc did not improve from 0.88300\n",
      "Epoch 101/200\n",
      "1250/1250 [==============================] - 35s 28ms/step - loss: 0.0942 - acc: 0.9677 - val_loss: 0.4100 - val_acc: 0.8776\n",
      "\n",
      "Epoch 00101: val_acc did not improve from 0.88300\n",
      "Epoch 102/200\n",
      "1250/1250 [==============================] - 34s 27ms/step - loss: 0.0915 - acc: 0.9694 - val_loss: 0.4169 - val_acc: 0.8787\n",
      "\n",
      "Epoch 00102: val_acc did not improve from 0.88300\n",
      "Epoch 103/200\n",
      "1250/1250 [==============================] - 34s 27ms/step - loss: 0.0925 - acc: 0.9690 - val_loss: 0.4171 - val_acc: 0.8829\n",
      "\n",
      "Epoch 00103: val_acc did not improve from 0.88300\n",
      "Epoch 104/200\n",
      "1250/1250 [==============================] - 34s 28ms/step - loss: 0.0917 - acc: 0.9686 - val_loss: 0.4178 - val_acc: 0.8787\n",
      "\n",
      "Epoch 00104: val_acc did not improve from 0.88300\n",
      "Epoch 105/200\n",
      "1250/1250 [==============================] - 34s 27ms/step - loss: 0.0875 - acc: 0.9708 - val_loss: 0.4176 - val_acc: 0.8798\n",
      "\n",
      "Epoch 00105: val_acc did not improve from 0.88300\n",
      "Epoch 106/200\n",
      "1250/1250 [==============================] - 34s 27ms/step - loss: 0.0907 - acc: 0.9700 - val_loss: 0.4298 - val_acc: 0.8753\n",
      "\n",
      "Epoch 00106: val_acc did not improve from 0.88300\n",
      "Epoch 107/200\n",
      "1250/1250 [==============================] - 34s 27ms/step - loss: 0.0896 - acc: 0.9708 - val_loss: 0.4165 - val_acc: 0.8813\n",
      "\n",
      "Epoch 00107: val_acc did not improve from 0.88300\n",
      "Epoch 108/200\n",
      "1250/1250 [==============================] - 34s 27ms/step - loss: 0.0881 - acc: 0.9705 - val_loss: 0.4216 - val_acc: 0.8776\n",
      "\n",
      "Epoch 00108: val_acc did not improve from 0.88300\n",
      "Epoch 109/200\n",
      "1250/1250 [==============================] - 34s 28ms/step - loss: 0.0900 - acc: 0.9700 - val_loss: 0.4256 - val_acc: 0.8790\n",
      "\n",
      "Epoch 00109: val_acc did not improve from 0.88300\n",
      "Epoch 110/200\n",
      "1250/1250 [==============================] - 34s 27ms/step - loss: 0.0905 - acc: 0.9694 - val_loss: 0.4213 - val_acc: 0.8778\n",
      "\n",
      "Epoch 00110: val_acc did not improve from 0.88300\n",
      "Epoch 111/200\n",
      "1250/1250 [==============================] - 35s 28ms/step - loss: 0.0848 - acc: 0.9710 - val_loss: 0.4193 - val_acc: 0.8780\n",
      "\n",
      "Epoch 00111: val_acc did not improve from 0.88300\n",
      "Epoch 112/200\n",
      "1250/1250 [==============================] - 35s 28ms/step - loss: 0.0872 - acc: 0.9705 - val_loss: 0.4159 - val_acc: 0.8796\n",
      "\n",
      "Epoch 00112: val_acc did not improve from 0.88300\n",
      "Epoch 113/200\n",
      "1250/1250 [==============================] - 35s 28ms/step - loss: 0.0890 - acc: 0.9700 - val_loss: 0.4206 - val_acc: 0.8768\n",
      "\n",
      "Epoch 00113: val_acc did not improve from 0.88300\n",
      "Epoch 114/200\n",
      "1250/1250 [==============================] - 35s 28ms/step - loss: 0.0886 - acc: 0.9695 - val_loss: 0.4307 - val_acc: 0.8747\n",
      "\n",
      "Epoch 00114: val_acc did not improve from 0.88300\n",
      "Epoch 115/200\n",
      "1250/1250 [==============================] - 35s 28ms/step - loss: 0.0848 - acc: 0.9717 - val_loss: 0.4170 - val_acc: 0.8803\n",
      "\n",
      "Epoch 00115: val_acc did not improve from 0.88300\n",
      "Epoch 116/200\n",
      "1250/1250 [==============================] - 35s 28ms/step - loss: 0.0865 - acc: 0.9694 - val_loss: 0.4120 - val_acc: 0.8839\n",
      "\n",
      "Epoch 00116: val_acc improved from 0.88300 to 0.88390, saving model to models_resnet20\n"
     ]
    },
    {
     "output_type": "stream",
     "name": "stderr",
     "text": [
      "WARNING:absl:Found untraced functions such as conv2d_1_layer_call_and_return_conditional_losses, conv2d_1_layer_call_fn, conv2d_2_layer_call_and_return_conditional_losses, conv2d_2_layer_call_fn, conv2d_3_layer_call_and_return_conditional_losses while saving (showing 5 of 180). These functions will not be directly callable after loading.\n"
     ]
    },
    {
     "output_type": "stream",
     "name": "stdout",
     "text": [
      "INFO:tensorflow:Assets written to: models_resnet20\\assets\n"
     ]
    },
    {
     "output_type": "stream",
     "name": "stderr",
     "text": [
      "INFO:tensorflow:Assets written to: models_resnet20\\assets\n"
     ]
    },
    {
     "output_type": "stream",
     "name": "stdout",
     "text": [
      "Epoch 117/200\n",
      "1250/1250 [==============================] - 35s 28ms/step - loss: 0.0844 - acc: 0.9722 - val_loss: 0.4122 - val_acc: 0.8789\n",
      "\n",
      "Epoch 00117: val_acc did not improve from 0.88390\n",
      "Epoch 118/200\n",
      "1250/1250 [==============================] - 35s 28ms/step - loss: 0.0830 - acc: 0.9716 - val_loss: 0.4244 - val_acc: 0.8744\n",
      "\n",
      "Epoch 00118: val_acc did not improve from 0.88390\n",
      "Epoch 119/200\n",
      "1250/1250 [==============================] - 35s 28ms/step - loss: 0.0857 - acc: 0.9711 - val_loss: 0.4288 - val_acc: 0.8792\n",
      "\n",
      "Epoch 00119: val_acc did not improve from 0.88390\n",
      "Epoch 120/200\n",
      "1250/1250 [==============================] - 35s 28ms/step - loss: 0.0860 - acc: 0.9703 - val_loss: 0.4249 - val_acc: 0.8793\n",
      "\n",
      "Epoch 00120: val_acc did not improve from 0.88390\n",
      "Epoch 121/200\n",
      "1250/1250 [==============================] - 35s 28ms/step - loss: 0.0807 - acc: 0.9730 - val_loss: 0.4228 - val_acc: 0.8811\n",
      "\n",
      "Epoch 00121: val_acc did not improve from 0.88390\n",
      "Epoch 122/200\n",
      "1250/1250 [==============================] - 35s 28ms/step - loss: 0.0791 - acc: 0.9729 - val_loss: 0.4245 - val_acc: 0.8786\n",
      "\n",
      "Epoch 00122: val_acc did not improve from 0.88390\n",
      "Epoch 123/200\n",
      "1250/1250 [==============================] - 35s 28ms/step - loss: 0.0777 - acc: 0.9745 - val_loss: 0.4312 - val_acc: 0.8802\n",
      "\n",
      "Epoch 00123: val_acc did not improve from 0.88390\n",
      "Epoch 124/200\n",
      "1250/1250 [==============================] - 35s 28ms/step - loss: 0.0796 - acc: 0.9733 - val_loss: 0.4096 - val_acc: 0.8827\n",
      "\n",
      "Epoch 00124: val_acc did not improve from 0.88390\n",
      "Epoch 125/200\n",
      "1250/1250 [==============================] - 35s 28ms/step - loss: 0.0808 - acc: 0.9726 - val_loss: 0.4192 - val_acc: 0.8772\n",
      "\n",
      "Epoch 00125: val_acc did not improve from 0.88390\n",
      "Epoch 126/200\n",
      "1250/1250 [==============================] - 35s 28ms/step - loss: 0.0777 - acc: 0.9752 - val_loss: 0.4112 - val_acc: 0.8832\n",
      "\n",
      "Epoch 00126: val_acc did not improve from 0.88390\n",
      "Epoch 127/200\n",
      "1250/1250 [==============================] - 35s 28ms/step - loss: 0.0812 - acc: 0.9722 - val_loss: 0.4118 - val_acc: 0.8830\n",
      "\n",
      "Epoch 00127: val_acc did not improve from 0.88390\n",
      "Epoch 128/200\n",
      "1250/1250 [==============================] - 35s 28ms/step - loss: 0.0795 - acc: 0.9728 - val_loss: 0.4239 - val_acc: 0.8811\n",
      "\n",
      "Epoch 00128: val_acc did not improve from 0.88390\n",
      "Epoch 129/200\n",
      "1250/1250 [==============================] - 34s 27ms/step - loss: 0.0806 - acc: 0.9718 - val_loss: 0.4282 - val_acc: 0.8793\n",
      "\n",
      "Epoch 00129: val_acc did not improve from 0.88390\n",
      "Epoch 130/200\n",
      "1250/1250 [==============================] - 34s 27ms/step - loss: 0.0776 - acc: 0.9732 - val_loss: 0.4265 - val_acc: 0.8793\n",
      "\n",
      "Epoch 00130: val_acc did not improve from 0.88390\n",
      "Epoch 131/200\n",
      "1250/1250 [==============================] - 34s 28ms/step - loss: 0.0794 - acc: 0.9739 - val_loss: 0.4128 - val_acc: 0.8813\n",
      "\n",
      "Epoch 00131: val_acc did not improve from 0.88390\n",
      "Epoch 132/200\n",
      "1250/1250 [==============================] - 34s 27ms/step - loss: 0.0800 - acc: 0.9730 - val_loss: 0.4316 - val_acc: 0.8763\n",
      "\n",
      "Epoch 00132: val_acc did not improve from 0.88390\n",
      "Epoch 133/200\n",
      "1250/1250 [==============================] - 35s 28ms/step - loss: 0.0768 - acc: 0.9742 - val_loss: 0.4179 - val_acc: 0.8786\n",
      "\n",
      "Epoch 00133: val_acc did not improve from 0.88390\n",
      "Epoch 134/200\n",
      "1250/1250 [==============================] - 35s 28ms/step - loss: 0.0788 - acc: 0.9733 - val_loss: 0.4116 - val_acc: 0.8814\n",
      "\n",
      "Epoch 00134: val_acc did not improve from 0.88390\n",
      "Epoch 135/200\n",
      "1250/1250 [==============================] - 35s 28ms/step - loss: 0.0810 - acc: 0.9720 - val_loss: 0.4227 - val_acc: 0.8785\n",
      "\n",
      "Epoch 00135: val_acc did not improve from 0.88390\n",
      "Epoch 136/200\n",
      "1250/1250 [==============================] - 35s 28ms/step - loss: 0.0793 - acc: 0.9733 - val_loss: 0.4169 - val_acc: 0.8797\n",
      "\n",
      "Epoch 00136: val_acc did not improve from 0.88390\n",
      "Epoch 137/200\n",
      "1250/1250 [==============================] - 35s 28ms/step - loss: 0.0783 - acc: 0.9743 - val_loss: 0.4346 - val_acc: 0.8805\n",
      "\n",
      "Epoch 00137: val_acc did not improve from 0.88390\n",
      "Epoch 138/200\n",
      "1250/1250 [==============================] - 35s 28ms/step - loss: 0.0773 - acc: 0.9740 - val_loss: 0.4208 - val_acc: 0.8827\n",
      "\n",
      "Epoch 00138: val_acc did not improve from 0.88390\n",
      "Epoch 139/200\n",
      "1250/1250 [==============================] - 35s 28ms/step - loss: 0.0780 - acc: 0.9742 - val_loss: 0.4269 - val_acc: 0.8804\n",
      "\n",
      "Epoch 00139: val_acc did not improve from 0.88390\n",
      "Epoch 140/200\n",
      "1250/1250 [==============================] - 35s 28ms/step - loss: 0.0807 - acc: 0.9722 - val_loss: 0.4118 - val_acc: 0.8823\n",
      "\n",
      "Epoch 00140: val_acc did not improve from 0.88390\n",
      "Epoch 141/200\n",
      "1250/1250 [==============================] - 35s 28ms/step - loss: 0.0766 - acc: 0.9748 - val_loss: 0.4122 - val_acc: 0.8797\n",
      "\n",
      "Epoch 00141: val_acc did not improve from 0.88390\n",
      "Epoch 142/200\n",
      "1250/1250 [==============================] - 35s 28ms/step - loss: 0.0800 - acc: 0.9737 - val_loss: 0.4144 - val_acc: 0.8829\n",
      "\n",
      "Epoch 00142: val_acc did not improve from 0.88390\n",
      "Epoch 143/200\n",
      "1250/1250 [==============================] - 35s 28ms/step - loss: 0.0772 - acc: 0.9746 - val_loss: 0.4113 - val_acc: 0.8805\n",
      "\n",
      "Epoch 00143: val_acc did not improve from 0.88390\n",
      "Epoch 144/200\n",
      "1250/1250 [==============================] - 35s 28ms/step - loss: 0.0784 - acc: 0.9737 - val_loss: 0.4079 - val_acc: 0.8817\n",
      "\n",
      "Epoch 00144: val_acc did not improve from 0.88390\n",
      "Epoch 145/200\n",
      "1250/1250 [==============================] - 36s 28ms/step - loss: 0.0800 - acc: 0.9727 - val_loss: 0.4188 - val_acc: 0.8785\n",
      "\n",
      "Epoch 00145: val_acc did not improve from 0.88390\n",
      "Epoch 146/200\n",
      "1250/1250 [==============================] - 36s 28ms/step - loss: 0.0786 - acc: 0.9735 - val_loss: 0.4287 - val_acc: 0.8786\n",
      "\n",
      "Epoch 00146: val_acc did not improve from 0.88390\n",
      "Epoch 147/200\n",
      "1250/1250 [==============================] - 35s 28ms/step - loss: 0.0775 - acc: 0.9739 - val_loss: 0.4241 - val_acc: 0.8775\n",
      "\n",
      "Epoch 00147: val_acc did not improve from 0.88390\n",
      "Epoch 148/200\n",
      "1250/1250 [==============================] - 35s 28ms/step - loss: 0.0781 - acc: 0.9737 - val_loss: 0.4321 - val_acc: 0.8770\n",
      "\n",
      "Epoch 00148: val_acc did not improve from 0.88390\n",
      "Epoch 149/200\n",
      "1250/1250 [==============================] - 35s 28ms/step - loss: 0.0761 - acc: 0.9743 - val_loss: 0.4233 - val_acc: 0.8796\n",
      "\n",
      "Epoch 00149: val_acc did not improve from 0.88390\n",
      "Epoch 150/200\n",
      "1250/1250 [==============================] - 35s 28ms/step - loss: 0.0773 - acc: 0.9739 - val_loss: 0.4121 - val_acc: 0.8829\n",
      "\n",
      "Epoch 00150: val_acc did not improve from 0.88390\n",
      "Epoch 151/200\n",
      "1250/1250 [==============================] - 34s 27ms/step - loss: 0.0788 - acc: 0.9737 - val_loss: 0.4200 - val_acc: 0.8819\n",
      "\n",
      "Epoch 00151: val_acc did not improve from 0.88390\n",
      "Epoch 152/200\n",
      "1250/1250 [==============================] - 35s 28ms/step - loss: 0.0763 - acc: 0.9741 - val_loss: 0.4240 - val_acc: 0.8799\n",
      "\n",
      "Epoch 00152: val_acc did not improve from 0.88390\n",
      "Epoch 153/200\n",
      "1250/1250 [==============================] - 35s 28ms/step - loss: 0.0772 - acc: 0.9738 - val_loss: 0.4150 - val_acc: 0.8815\n",
      "\n",
      "Epoch 00153: val_acc did not improve from 0.88390\n",
      "Epoch 154/200\n",
      "1250/1250 [==============================] - 35s 28ms/step - loss: 0.0778 - acc: 0.9742 - val_loss: 0.4051 - val_acc: 0.8877\n",
      "\n",
      "Epoch 00154: val_acc improved from 0.88390 to 0.88770, saving model to models_resnet20\n"
     ]
    },
    {
     "output_type": "stream",
     "name": "stderr",
     "text": [
      "WARNING:absl:Found untraced functions such as conv2d_1_layer_call_and_return_conditional_losses, conv2d_1_layer_call_fn, conv2d_2_layer_call_and_return_conditional_losses, conv2d_2_layer_call_fn, conv2d_3_layer_call_and_return_conditional_losses while saving (showing 5 of 180). These functions will not be directly callable after loading.\n"
     ]
    },
    {
     "output_type": "stream",
     "name": "stdout",
     "text": [
      "INFO:tensorflow:Assets written to: models_resnet20\\assets\n"
     ]
    },
    {
     "output_type": "stream",
     "name": "stderr",
     "text": [
      "INFO:tensorflow:Assets written to: models_resnet20\\assets\n"
     ]
    },
    {
     "output_type": "stream",
     "name": "stdout",
     "text": [
      "Epoch 155/200\n",
      "1250/1250 [==============================] - 34s 27ms/step - loss: 0.0751 - acc: 0.9746 - val_loss: 0.4292 - val_acc: 0.8791\n",
      "\n",
      "Epoch 00155: val_acc did not improve from 0.88770\n",
      "Epoch 156/200\n",
      "1250/1250 [==============================] - 34s 27ms/step - loss: 0.0766 - acc: 0.9738 - val_loss: 0.4031 - val_acc: 0.8871\n",
      "\n",
      "Epoch 00156: val_acc did not improve from 0.88770\n",
      "Epoch 157/200\n",
      "1250/1250 [==============================] - 34s 27ms/step - loss: 0.0746 - acc: 0.9748 - val_loss: 0.4279 - val_acc: 0.8769\n",
      "\n",
      "Epoch 00157: val_acc did not improve from 0.88770\n",
      "Epoch 158/200\n",
      "1250/1250 [==============================] - 34s 27ms/step - loss: 0.0775 - acc: 0.9742 - val_loss: 0.4253 - val_acc: 0.8762\n",
      "\n",
      "Epoch 00158: val_acc did not improve from 0.88770\n",
      "Epoch 159/200\n",
      "1250/1250 [==============================] - 34s 27ms/step - loss: 0.0753 - acc: 0.9743 - val_loss: 0.4259 - val_acc: 0.8826\n",
      "\n",
      "Epoch 00159: val_acc did not improve from 0.88770\n",
      "Epoch 160/200\n",
      "1250/1250 [==============================] - 35s 28ms/step - loss: 0.0777 - acc: 0.9748 - val_loss: 0.4271 - val_acc: 0.8778\n",
      "\n",
      "Epoch 00160: val_acc did not improve from 0.88770\n",
      "Epoch 161/200\n",
      "1250/1250 [==============================] - 35s 28ms/step - loss: 0.0769 - acc: 0.9751 - val_loss: 0.4265 - val_acc: 0.8782\n",
      "\n",
      "Epoch 00161: val_acc did not improve from 0.88770\n",
      "Epoch 162/200\n",
      "1250/1250 [==============================] - 35s 28ms/step - loss: 0.0747 - acc: 0.9753 - val_loss: 0.4349 - val_acc: 0.8792\n",
      "\n",
      "Epoch 00162: val_acc did not improve from 0.88770\n",
      "Epoch 163/200\n",
      "1250/1250 [==============================] - 35s 28ms/step - loss: 0.0783 - acc: 0.9741 - val_loss: 0.4227 - val_acc: 0.8822\n",
      "\n",
      "Epoch 00163: val_acc did not improve from 0.88770\n",
      "Epoch 164/200\n",
      "1250/1250 [==============================] - 35s 28ms/step - loss: 0.0782 - acc: 0.9738 - val_loss: 0.4277 - val_acc: 0.8816\n",
      "\n",
      "Epoch 00164: val_acc did not improve from 0.88770\n",
      "Epoch 165/200\n",
      "1250/1250 [==============================] - 35s 28ms/step - loss: 0.0790 - acc: 0.9731 - val_loss: 0.4259 - val_acc: 0.8800\n",
      "\n",
      "Epoch 00165: val_acc did not improve from 0.88770\n",
      "Epoch 166/200\n",
      "1250/1250 [==============================] - 35s 28ms/step - loss: 0.0782 - acc: 0.9738 - val_loss: 0.4195 - val_acc: 0.8831\n",
      "\n",
      "Epoch 00166: val_acc did not improve from 0.88770\n",
      "Epoch 167/200\n",
      "1250/1250 [==============================] - 34s 27ms/step - loss: 0.0779 - acc: 0.9731 - val_loss: 0.4171 - val_acc: 0.8791\n",
      "\n",
      "Epoch 00167: val_acc did not improve from 0.88770\n",
      "Epoch 168/200\n",
      "1250/1250 [==============================] - 34s 27ms/step - loss: 0.0732 - acc: 0.9757 - val_loss: 0.4226 - val_acc: 0.8790\n",
      "\n",
      "Epoch 00168: val_acc did not improve from 0.88770\n",
      "Epoch 169/200\n",
      "1250/1250 [==============================] - 35s 28ms/step - loss: 0.0753 - acc: 0.9746 - val_loss: 0.4348 - val_acc: 0.8775\n",
      "\n",
      "Epoch 00169: val_acc did not improve from 0.88770\n",
      "Epoch 170/200\n",
      "1250/1250 [==============================] - 35s 28ms/step - loss: 0.0795 - acc: 0.9728 - val_loss: 0.4217 - val_acc: 0.8821\n",
      "\n",
      "Epoch 00170: val_acc did not improve from 0.88770\n",
      "Epoch 171/200\n",
      "1250/1250 [==============================] - 35s 28ms/step - loss: 0.0762 - acc: 0.9746 - val_loss: 0.4080 - val_acc: 0.8834\n",
      "\n",
      "Epoch 00171: val_acc did not improve from 0.88770\n",
      "Epoch 172/200\n",
      "1250/1250 [==============================] - 35s 28ms/step - loss: 0.0767 - acc: 0.9740 - val_loss: 0.4201 - val_acc: 0.8853\n",
      "\n",
      "Epoch 00172: val_acc did not improve from 0.88770\n",
      "Epoch 173/200\n",
      "1250/1250 [==============================] - 34s 27ms/step - loss: 0.0755 - acc: 0.9750 - val_loss: 0.4357 - val_acc: 0.8778\n",
      "\n",
      "Epoch 00173: val_acc did not improve from 0.88770\n",
      "Epoch 174/200\n",
      "1250/1250 [==============================] - 34s 27ms/step - loss: 0.0776 - acc: 0.9737 - val_loss: 0.4271 - val_acc: 0.8785\n",
      "\n",
      "Epoch 00174: val_acc did not improve from 0.88770\n",
      "Epoch 175/200\n",
      "1250/1250 [==============================] - 34s 27ms/step - loss: 0.0759 - acc: 0.9740 - val_loss: 0.4347 - val_acc: 0.8740\n",
      "\n",
      "Epoch 00175: val_acc did not improve from 0.88770\n",
      "Epoch 176/200\n",
      "1250/1250 [==============================] - 34s 27ms/step - loss: 0.0763 - acc: 0.9747 - val_loss: 0.4251 - val_acc: 0.8806\n",
      "\n",
      "Epoch 00176: val_acc did not improve from 0.88770\n",
      "Epoch 177/200\n",
      "1250/1250 [==============================] - 34s 27ms/step - loss: 0.0781 - acc: 0.9740 - val_loss: 0.4241 - val_acc: 0.8787\n",
      "\n",
      "Epoch 00177: val_acc did not improve from 0.88770\n",
      "Epoch 178/200\n",
      "1250/1250 [==============================] - 34s 27ms/step - loss: 0.0738 - acc: 0.9758 - val_loss: 0.4340 - val_acc: 0.8777\n",
      "\n",
      "Epoch 00178: val_acc did not improve from 0.88770\n",
      "Epoch 179/200\n",
      "1250/1250 [==============================] - 35s 28ms/step - loss: 0.0760 - acc: 0.9744 - val_loss: 0.4174 - val_acc: 0.8801\n",
      "\n",
      "Epoch 00179: val_acc did not improve from 0.88770\n",
      "Epoch 180/200\n",
      "1250/1250 [==============================] - 35s 28ms/step - loss: 0.0741 - acc: 0.9754 - val_loss: 0.4216 - val_acc: 0.8791\n",
      "\n",
      "Epoch 00180: val_acc did not improve from 0.88770\n",
      "Epoch 181/200\n",
      "1250/1250 [==============================] - 35s 28ms/step - loss: 0.0762 - acc: 0.9743 - val_loss: 0.4263 - val_acc: 0.8824\n",
      "\n",
      "Epoch 00181: val_acc did not improve from 0.88770\n",
      "Epoch 182/200\n",
      "1250/1250 [==============================] - 35s 28ms/step - loss: 0.0731 - acc: 0.9763 - val_loss: 0.4267 - val_acc: 0.8816\n",
      "\n",
      "Epoch 00182: val_acc did not improve from 0.88770\n",
      "Epoch 183/200\n",
      "1250/1250 [==============================] - 35s 28ms/step - loss: 0.0735 - acc: 0.9757 - val_loss: 0.4280 - val_acc: 0.8806\n",
      "\n",
      "Epoch 00183: val_acc did not improve from 0.88770\n",
      "Epoch 184/200\n",
      "1250/1250 [==============================] - 35s 28ms/step - loss: 0.0777 - acc: 0.9732 - val_loss: 0.4257 - val_acc: 0.8762\n",
      "\n",
      "Epoch 00184: val_acc did not improve from 0.88770\n",
      "Epoch 185/200\n",
      "1250/1250 [==============================] - 35s 28ms/step - loss: 0.0758 - acc: 0.9749 - val_loss: 0.4137 - val_acc: 0.8834\n",
      "\n",
      "Epoch 00185: val_acc did not improve from 0.88770\n",
      "Epoch 186/200\n",
      "1250/1250 [==============================] - 34s 28ms/step - loss: 0.0753 - acc: 0.9744 - val_loss: 0.4132 - val_acc: 0.8826\n",
      "\n",
      "Epoch 00186: val_acc did not improve from 0.88770\n",
      "Epoch 187/200\n",
      "1250/1250 [==============================] - 35s 28ms/step - loss: 0.0770 - acc: 0.9736 - val_loss: 0.4351 - val_acc: 0.8789\n",
      "\n",
      "Epoch 00187: val_acc did not improve from 0.88770\n",
      "Epoch 188/200\n",
      "1250/1250 [==============================] - 35s 28ms/step - loss: 0.0774 - acc: 0.9743 - val_loss: 0.4256 - val_acc: 0.8815\n",
      "\n",
      "Epoch 00188: val_acc did not improve from 0.88770\n",
      "Epoch 189/200\n",
      "1250/1250 [==============================] - 35s 28ms/step - loss: 0.0773 - acc: 0.9747 - val_loss: 0.4154 - val_acc: 0.8824\n",
      "\n",
      "Epoch 00189: val_acc did not improve from 0.88770\n",
      "Epoch 190/200\n",
      "1250/1250 [==============================] - 35s 28ms/step - loss: 0.0755 - acc: 0.9734 - val_loss: 0.4247 - val_acc: 0.8805\n",
      "\n",
      "Epoch 00190: val_acc did not improve from 0.88770\n",
      "Epoch 191/200\n",
      "1250/1250 [==============================] - 35s 28ms/step - loss: 0.0732 - acc: 0.9751 - val_loss: 0.4330 - val_acc: 0.8783\n",
      "\n",
      "Epoch 00191: val_acc did not improve from 0.88770\n",
      "Epoch 192/200\n",
      "1250/1250 [==============================] - 35s 28ms/step - loss: 0.0744 - acc: 0.9748 - val_loss: 0.4191 - val_acc: 0.8833\n",
      "\n",
      "Epoch 00192: val_acc did not improve from 0.88770\n",
      "Epoch 193/200\n",
      "1250/1250 [==============================] - 35s 28ms/step - loss: 0.0735 - acc: 0.9754 - val_loss: 0.4246 - val_acc: 0.8813\n",
      "\n",
      "Epoch 00193: val_acc did not improve from 0.88770\n",
      "Epoch 194/200\n",
      "1250/1250 [==============================] - 35s 28ms/step - loss: 0.0746 - acc: 0.9748 - val_loss: 0.4220 - val_acc: 0.8816\n",
      "\n",
      "Epoch 00194: val_acc did not improve from 0.88770\n",
      "Epoch 195/200\n",
      "1250/1250 [==============================] - 35s 28ms/step - loss: 0.0759 - acc: 0.9747 - val_loss: 0.4275 - val_acc: 0.8781\n",
      "\n",
      "Epoch 00195: val_acc did not improve from 0.88770\n",
      "Epoch 196/200\n",
      "1250/1250 [==============================] - 35s 28ms/step - loss: 0.0740 - acc: 0.9751 - val_loss: 0.4294 - val_acc: 0.8800\n",
      "\n",
      "Epoch 00196: val_acc did not improve from 0.88770\n",
      "Epoch 197/200\n",
      "1250/1250 [==============================] - 34s 28ms/step - loss: 0.0762 - acc: 0.9746 - val_loss: 0.4383 - val_acc: 0.8772\n",
      "\n",
      "Epoch 00197: val_acc did not improve from 0.88770\n",
      "Epoch 198/200\n",
      "1250/1250 [==============================] - 35s 28ms/step - loss: 0.0776 - acc: 0.9739 - val_loss: 0.4229 - val_acc: 0.8815\n",
      "\n",
      "Epoch 00198: val_acc did not improve from 0.88770\n",
      "Epoch 199/200\n",
      "1250/1250 [==============================] - 35s 28ms/step - loss: 0.0773 - acc: 0.9741 - val_loss: 0.4293 - val_acc: 0.8790\n",
      "\n",
      "Epoch 00199: val_acc did not improve from 0.88770\n",
      "Epoch 200/200\n",
      "1250/1250 [==============================] - 35s 28ms/step - loss: 0.0763 - acc: 0.9746 - val_loss: 0.4225 - val_acc: 0.8821\n",
      "\n",
      "Epoch 00200: val_acc did not improve from 0.88770\n"
     ]
    }
   ],
   "metadata": {}
  },
  {
   "cell_type": "code",
   "execution_count": 7,
   "source": [
    "# Training accuracy 및 validation accuracy\n",
    "acc = history.history['acc']\n",
    "val_acc = history.history['val_acc']\n",
    "\n",
    "# Training loss 및 validation loss\n",
    "loss = history.history['loss']\n",
    "val_loss = history.history['val_loss']\n",
    "\n",
    "# matplotlib 를 이용하여 accuracy 및 loss 출력\n",
    "plt.figure(figsize=(8, 8))\n",
    "plt.subplot(2, 1, 1)\n",
    "plt.plot(acc, label='Training Accuracy')\n",
    "plt.plot(val_acc, label='Validation Accuracy')\n",
    "plt.legend(loc='lower right')\n",
    "plt.ylabel('Accuracy')\n",
    "plt.ylim([0, 1])\n",
    "plt.title('Training and Validation Accuracy')\n",
    "\n",
    "plt.subplot(2, 1, 2)\n",
    "plt.plot(loss, label='Training Loss')\n",
    "plt.plot(val_loss, label='Validation Loss')\n",
    "plt.legend(loc='upper right')\n",
    "plt.ylabel('Cross Entropy')\n",
    "plt.ylim([0, max(plt.ylim())])\n",
    "plt.title('Training and Validation Loss')\n",
    "plt.show()"
   ],
   "outputs": [
    {
     "output_type": "display_data",
     "data": {
      "text/plain": [
       "<Figure size 576x576 with 2 Axes>"
      ],
      "image/png": "[encoded data removed]"
     },
     "metadata": {
      "needs_background": "light"
     }
    }
   ],
   "metadata": {}
  },
  {
   "cell_type": "code",
   "execution_count": 8,
   "source": [
    "# Test 데이터를 이용한 학습 모델 검증\n",
    "test_loss, test_acc = model.evaluate(\n",
    "                        test_datagen.flow(x_test, y_test, batch_size=1),\n",
    "                        verbose=1)\n",
    "print('Test Loss : {:.4f}, Test Accuracy : {:.2f}%'.format(test_loss, 100.*test_acc))"
   ],
   "outputs": [
    {
     "output_type": "stream",
     "name": "stdout",
     "text": [
      "10000/10000 [==============================] - 94s 9ms/step - loss: 0.4638 - acc: 0.8769\n",
      "Test Loss : 0.4638, Test Accuracy : 87.69%\n"
     ]
    }
   ],
   "metadata": {}
  },
  {
   "cell_type": "code",
   "execution_count": null,
   "source": [],
   "outputs": [],
   "metadata": {}
  }
 ],
 "metadata": {
  "kernelspec": {
   "display_name": "Python 3 (ipykernel)",
   "language": "python",
   "name": "python3"
  },
  "language_info": {
   "codemirror_mode": {
    "name": "ipython",
    "version": 3
   },
   "file_extension": ".py",
   "mimetype": "text/x-python",
   "name": "python",
   "nbconvert_exporter": "python",
   "pygments_lexer": "ipython3",
   "version": "3.8.10"
  }
 },
 "nbformat": 4,
 "nbformat_minor": 5
}